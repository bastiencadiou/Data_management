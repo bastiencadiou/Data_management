{
 "cells": [
  {
   "cell_type": "code",
   "execution_count": 1,
   "metadata": {},
   "outputs": [],
   "source": [
    "import pandas as pd"
   ]
  },
  {
   "cell_type": "code",
   "execution_count": 2,
   "metadata": {},
   "outputs": [],
   "source": [
    "data = pd.read_csv('130141-21data2020.csv')\n",
    "data1 = pd.read_csv('130141-20data2019.csv')\n",
    "\n",
    "#data.info()"
   ]
  },
  {
   "cell_type": "code",
   "execution_count": 3,
   "metadata": {},
   "outputs": [],
   "source": [
    "data = data.drop(['casref_od','casref_do'], axis = 1)\n",
    "data1 = data1.drop(['casref_od','casref_do'], axis = 1)\n"
   ]
  },
  {
   "cell_type": "code",
   "execution_count": 4,
   "metadata": {},
   "outputs": [],
   "source": [
    "data = data.dropna(axis = 0)\n",
    "data1 = data1.dropna(axis=0)\n",
    "#data.info()"
   ]
  },
  {
   "cell_type": "code",
   "execution_count": 5,
   "metadata": {},
   "outputs": [
    {
     "name": "stdout",
     "output_type": "stream",
     "text": [
      "vuk\n",
      "8\n",
      "vuk_text\n",
      "8\n",
      "vuzemi_txt\n",
      "5369\n"
     ]
    }
   ],
   "source": [
    "for i in data.columns:\n",
    "    if data[i].dtypes == 'O':\n",
    "        print(i)\n",
    "        print(data[i].value_counts().count())"
   ]
  },
  {
   "cell_type": "code",
   "execution_count": 6,
   "metadata": {},
   "outputs": [
    {
     "name": "stdout",
     "output_type": "stream",
     "text": [
      "rok  \n",
      "1\n"
     ]
    }
   ],
   "source": [
    "rok   = data['rok'].astype(object)\n",
    "print('rok  ')\n",
    "print(rok.value_counts().count())"
   ]
  },
  {
   "cell_type": "code",
   "execution_count": 7,
   "metadata": {},
   "outputs": [
    {
     "name": "stdout",
     "output_type": "stream",
     "text": [
      "stapro_kod \n",
      "8\n"
     ]
    }
   ],
   "source": [
    "stapro_kod   = data['stapro_kod'].astype(object)\n",
    "print('stapro_kod ')\n",
    "print(stapro_kod.value_counts().count())"
   ]
  },
  {
   "cell_type": "code",
   "execution_count": 8,
   "metadata": {},
   "outputs": [
    {
     "name": "stdout",
     "output_type": "stream",
     "text": [
      "hodnota\n",
      "3103\n"
     ]
    }
   ],
   "source": [
    "hodnota = data['hodnota'].astype(object)\n",
    "print('hodnota')\n",
    "print(hodnota.value_counts().count())"
   ]
  },
  {
   "cell_type": "code",
   "execution_count": 9,
   "metadata": {},
   "outputs": [
    {
     "name": "stdout",
     "output_type": "stream",
     "text": [
      "vuzemi_cis\n",
      "5\n"
     ]
    }
   ],
   "source": [
    "vuzemi_cis = data['vuzemi_cis'].astype(object)\n",
    "print('vuzemi_cis')\n",
    "print(vuzemi_cis.value_counts().count())"
   ]
  },
  {
   "cell_type": "code",
   "execution_count": 10,
   "metadata": {},
   "outputs": [
    {
     "name": "stdout",
     "output_type": "stream",
     "text": [
      "vuzemi_kod\n",
      "6553\n"
     ]
    }
   ],
   "source": [
    "vuzemi_kod = data['vuzemi_kod'].astype(object)\n",
    "print('vuzemi_kod')\n",
    "print(vuzemi_kod.value_counts().count())"
   ]
  },
  {
   "cell_type": "code",
   "execution_count": 11,
   "metadata": {},
   "outputs": [
    {
     "name": "stdout",
     "output_type": "stream",
     "text": [
      "<class 'pandas.core.frame.DataFrame'>\n",
      "Int64Index: 52440 entries, 0 to 52439\n",
      "Data columns (total 5 columns):\n",
      " #   Column      Non-Null Count  Dtype\n",
      "---  ------      --------------  -----\n",
      " 0   idhod       52440 non-null  int64\n",
      " 1   hodnota     52440 non-null  int64\n",
      " 2   vuzemi_cis  52440 non-null  int64\n",
      " 3   vuzemi_kod  52440 non-null  int64\n",
      " 4   rok         52440 non-null  int64\n",
      "dtypes: int64(5)\n",
      "memory usage: 2.4 MB\n",
      "None\n",
      "<class 'pandas.core.frame.DataFrame'>\n",
      "Int64Index: 52432 entries, 0 to 52431\n",
      "Data columns (total 5 columns):\n",
      " #   Column      Non-Null Count  Dtype\n",
      "---  ------      --------------  -----\n",
      " 0   idhod       52432 non-null  int64\n",
      " 1   hodnota     52432 non-null  int64\n",
      " 2   vuzemi_cis  52432 non-null  int64\n",
      " 3   vuzemi_kod  52432 non-null  int64\n",
      " 4   rok         52432 non-null  int64\n",
      "dtypes: int64(5)\n",
      "memory usage: 2.4 MB\n",
      "None\n"
     ]
    }
   ],
   "source": [
    "data = data[['idhod','hodnota','vuzemi_cis','vuzemi_kod','rok']]\n",
    "data1 = data1[['idhod','hodnota','vuzemi_cis','vuzemi_kod','rok']]\n",
    "print(data.info())\n",
    "print(data1.info())"
   ]
  },
  {
   "cell_type": "code",
   "execution_count": 12,
   "metadata": {},
   "outputs": [
    {
     "name": "stdout",
     "output_type": "stream",
     "text": [
      "<class 'pandas.core.frame.DataFrame'>\n",
      "Int64Index: 104872 entries, 0 to 52431\n",
      "Data columns (total 5 columns):\n",
      " #   Column      Non-Null Count   Dtype\n",
      "---  ------      --------------   -----\n",
      " 0   idhod       104872 non-null  int64\n",
      " 1   hodnota     104872 non-null  int64\n",
      " 2   vuzemi_cis  104872 non-null  int64\n",
      " 3   vuzemi_kod  104872 non-null  int64\n",
      " 4   rok         104872 non-null  int64\n",
      "dtypes: int64(5)\n",
      "memory usage: 4.8 MB\n"
     ]
    }
   ],
   "source": [
    "data = data.append(data1)\n",
    "data.info()"
   ]
  },
  {
   "cell_type": "code",
   "execution_count": 13,
   "metadata": {},
   "outputs": [],
   "source": [
    "data = data.sort_values(by=['vuzemi_cis','vuzemi_kod','rok'])"
   ]
  },
  {
   "cell_type": "code",
   "execution_count": 14,
   "metadata": {},
   "outputs": [
    {
     "data": {
      "text/html": [
       "<div>\n",
       "<style scoped>\n",
       "    .dataframe tbody tr th:only-of-type {\n",
       "        vertical-align: middle;\n",
       "    }\n",
       "\n",
       "    .dataframe tbody tr th {\n",
       "        vertical-align: top;\n",
       "    }\n",
       "\n",
       "    .dataframe thead th {\n",
       "        text-align: right;\n",
       "    }\n",
       "</style>\n",
       "<table border=\"1\" class=\"dataframe\">\n",
       "  <thead>\n",
       "    <tr style=\"text-align: right;\">\n",
       "      <th></th>\n",
       "      <th>idhod</th>\n",
       "      <th>hodnota</th>\n",
       "      <th>vuzemi_cis</th>\n",
       "      <th>vuzemi_kod</th>\n",
       "      <th>rok</th>\n",
       "    </tr>\n",
       "  </thead>\n",
       "  <tbody>\n",
       "    <tr>\n",
       "      <th>2742</th>\n",
       "      <td>831489323</td>\n",
       "      <td>16</td>\n",
       "      <td>43</td>\n",
       "      <td>500011</td>\n",
       "      <td>2019</td>\n",
       "    </tr>\n",
       "    <tr>\n",
       "      <th>11452</th>\n",
       "      <td>831446968</td>\n",
       "      <td>39</td>\n",
       "      <td>43</td>\n",
       "      <td>500011</td>\n",
       "      <td>2019</td>\n",
       "    </tr>\n",
       "    <tr>\n",
       "      <th>16337</th>\n",
       "      <td>831510805</td>\n",
       "      <td>37</td>\n",
       "      <td>43</td>\n",
       "      <td>500011</td>\n",
       "      <td>2019</td>\n",
       "    </tr>\n",
       "    <tr>\n",
       "      <th>21228</th>\n",
       "      <td>831402733</td>\n",
       "      <td>2</td>\n",
       "      <td>43</td>\n",
       "      <td>500011</td>\n",
       "      <td>2019</td>\n",
       "    </tr>\n",
       "    <tr>\n",
       "      <th>27794</th>\n",
       "      <td>831396666</td>\n",
       "      <td>4</td>\n",
       "      <td>43</td>\n",
       "      <td>500011</td>\n",
       "      <td>2019</td>\n",
       "    </tr>\n",
       "  </tbody>\n",
       "</table>\n",
       "</div>"
      ],
      "text/plain": [
       "           idhod  hodnota  vuzemi_cis  vuzemi_kod   rok\n",
       "2742   831489323       16          43      500011  2019\n",
       "11452  831446968       39          43      500011  2019\n",
       "16337  831510805       37          43      500011  2019\n",
       "21228  831402733        2          43      500011  2019\n",
       "27794  831396666        4          43      500011  2019"
      ]
     },
     "execution_count": 14,
     "metadata": {},
     "output_type": "execute_result"
    }
   ],
   "source": [
    "data.head()"
   ]
  },
  {
   "cell_type": "code",
   "execution_count": 15,
   "metadata": {},
   "outputs": [],
   "source": [
    "data = data.rename(columns = {'idhod' : 'id', 'hodnota' : 'population_mean','vuzemi_cis' : 'region','vuzemi_kod' : 'district','rok':'year'})"
   ]
  },
  {
   "cell_type": "code",
   "execution_count": 16,
   "metadata": {},
   "outputs": [
    {
     "data": {
      "text/html": [
       "<div>\n",
       "<style scoped>\n",
       "    .dataframe tbody tr th:only-of-type {\n",
       "        vertical-align: middle;\n",
       "    }\n",
       "\n",
       "    .dataframe tbody tr th {\n",
       "        vertical-align: top;\n",
       "    }\n",
       "\n",
       "    .dataframe thead th {\n",
       "        text-align: right;\n",
       "    }\n",
       "</style>\n",
       "<table border=\"1\" class=\"dataframe\">\n",
       "  <thead>\n",
       "    <tr style=\"text-align: right;\">\n",
       "      <th></th>\n",
       "      <th>id</th>\n",
       "      <th>population_mean</th>\n",
       "      <th>region</th>\n",
       "      <th>district</th>\n",
       "      <th>year</th>\n",
       "    </tr>\n",
       "  </thead>\n",
       "  <tbody>\n",
       "    <tr>\n",
       "      <th>2742</th>\n",
       "      <td>831489323</td>\n",
       "      <td>16</td>\n",
       "      <td>43</td>\n",
       "      <td>500011</td>\n",
       "      <td>2019</td>\n",
       "    </tr>\n",
       "    <tr>\n",
       "      <th>11452</th>\n",
       "      <td>831446968</td>\n",
       "      <td>39</td>\n",
       "      <td>43</td>\n",
       "      <td>500011</td>\n",
       "      <td>2019</td>\n",
       "    </tr>\n",
       "    <tr>\n",
       "      <th>16337</th>\n",
       "      <td>831510805</td>\n",
       "      <td>37</td>\n",
       "      <td>43</td>\n",
       "      <td>500011</td>\n",
       "      <td>2019</td>\n",
       "    </tr>\n",
       "    <tr>\n",
       "      <th>21228</th>\n",
       "      <td>831402733</td>\n",
       "      <td>2</td>\n",
       "      <td>43</td>\n",
       "      <td>500011</td>\n",
       "      <td>2019</td>\n",
       "    </tr>\n",
       "    <tr>\n",
       "      <th>27794</th>\n",
       "      <td>831396666</td>\n",
       "      <td>4</td>\n",
       "      <td>43</td>\n",
       "      <td>500011</td>\n",
       "      <td>2019</td>\n",
       "    </tr>\n",
       "  </tbody>\n",
       "</table>\n",
       "</div>"
      ],
      "text/plain": [
       "              id  population_mean  region  district  year\n",
       "2742   831489323               16      43    500011  2019\n",
       "11452  831446968               39      43    500011  2019\n",
       "16337  831510805               37      43    500011  2019\n",
       "21228  831402733                2      43    500011  2019\n",
       "27794  831396666                4      43    500011  2019"
      ]
     },
     "execution_count": 16,
     "metadata": {},
     "output_type": "execute_result"
    }
   ],
   "source": [
    "#data.info()\n",
    "data.head()"
   ]
  },
  {
   "cell_type": "code",
   "execution_count": 17,
   "metadata": {},
   "outputs": [],
   "source": [
    "data.to_csv('2nd_cube.csv')"
   ]
  },
  {
   "cell_type": "code",
   "execution_count": 20,
   "metadata": {},
   "outputs": [
    {
     "name": "stdout",
     "output_type": "stream",
     "text": [
      "[a rdfg:Graph;rdflib:storage [a rdflib:Store;rdfs:label 'Memory']].\n"
     ]
    }
   ],
   "source": [
    "#  pip install rdflib\n",
    "\n",
    "import rdflib\n",
    "from rdflib import Graph, URIRef, BNode, Literal\n",
    "\n",
    "def load_csv_file_as_object(file_path: str):\n",
    "    import csv\n",
    "    result = []\n",
    "    with open(file_path,encoding = \"utf8\") as stream:\n",
    "        reader = csv.reader(stream)\n",
    "        header = next(reader)  # Skip header\n",
    "        for line in reader:\n",
    "            result.append({key: value for key, value in zip(header, line)})\n",
    "    return result\n",
    "\n",
    "def as_rdf(content):\n",
    "    result = Graph()\n",
    "    prefix = \"http://bastien_cadiou.org/\"\n",
    "    for record in content:\n",
    "        resource = URIRef(f\"http://bastien_cadiou.org/resource/{record['id']}\")\n",
    "        result.add((resource, URIRef(prefix + \"region\"), Literal(record[\"region\"])))\n",
    "        result.add((resource, URIRef(prefix + \"district\"), Literal(record[\"district\"])))\n",
    "        result.add((resource, URIRef(prefix + \"year\"), Literal(record[\"year\"])))\n",
    "        result.add((resource, URIRef(prefix + \"population_mean\"), Literal(record[\"population_mean\"])))\n",
    "    return result\n",
    "\n",
    "def print_rdf_as_trig(graph: Graph):\n",
    "    print(graph.serialize(format=\"turtle\", destination = \"2nd_cube.ttl\"))\n",
    "    \n",
    "file_path = \"2nd_cube.csv\"\n",
    "data = load_csv_file_as_object(file_path)\n",
    "rdf = as_rdf(data)\n",
    "print_rdf_as_trig(rdf)"
   ]
  }
 ],
 "metadata": {
  "interpreter": {
   "hash": "2c4343544432844496fb5407eda76b29e6da6b6d76370978441afbd506d74478"
  },
  "kernelspec": {
   "display_name": "Python 3.8.1 32-bit",
   "language": "python",
   "name": "python3"
  },
  "language_info": {
   "codemirror_mode": {
    "name": "ipython",
    "version": 3
   },
   "file_extension": ".py",
   "mimetype": "text/x-python",
   "name": "python",
   "nbconvert_exporter": "python",
   "pygments_lexer": "ipython3",
   "version": "3.9.4"
  },
  "orig_nbformat": 4
 },
 "nbformat": 4,
 "nbformat_minor": 2
}
