{
 "cells": [
  {
   "cell_type": "code",
   "execution_count": null,
   "metadata": {},
   "outputs": [],
   "source": [
    "import pandas as pd  "
   ]
  },
  {
   "cell_type": "code",
   "execution_count": null,
   "metadata": {},
   "outputs": [],
   "source": [
    "data = pd.read_csv(\"narodni-registr-poskytovatelu-zdravotnich-sluzeb.csv\")\n",
    "data.info()"
   ]
  },
  {
   "cell_type": "code",
   "execution_count": null,
   "metadata": {},
   "outputs": [],
   "source": [
    "data1 = data[[\"Okres\",\"Kraj\",\"OborPece\",\"MistoPoskytovaniId\"]]\n",
    "#data1.info()\n",
    "\n",
    "data1 = data1.rename(columns = {\"Okres\": 'Region',\"Kraj\": 'District',\"OborPece\":\"Field_of_care\",'MistoPoskytovaniId': 'Nbr_of_care_providers' })\n",
    "data1.info()"
   ]
  },
  {
   "cell_type": "code",
   "execution_count": null,
   "metadata": {},
   "outputs": [],
   "source": [
    "data1.isna().sum()\n",
    "\n",
    "data_2 = data1.dropna(axis=0)\n",
    "data_2.info()\n"
   ]
  },
  {
   "cell_type": "code",
   "execution_count": null,
   "metadata": {},
   "outputs": [],
   "source": [
    "print(data_2['Region'].value_counts().count())\n",
    "print(data_2['District'].value_counts().count())\n",
    "print(data_2['Field_of_care'].value_counts().count())"
   ]
  },
  {
   "cell_type": "code",
   "execution_count": null,
   "metadata": {},
   "outputs": [],
   "source": [
    "data_2 = data_2.sort_values(by=['Region','District','Field_of_care'])\n",
    "data_2.head()"
   ]
  },
  {
   "cell_type": "code",
   "execution_count": null,
   "metadata": {},
   "outputs": [],
   "source": [
    "import json\n",
    "\n",
    "result = data_2.to_json(orient=\"records\")\n",
    "parsed = json.loads(result)\n",
    "print(json.dumps(parsed, indent=4))"
   ]
  },
  {
   "cell_type": "code",
   "execution_count": null,
   "metadata": {},
   "outputs": [],
   "source": [
    "data_2.to_json(\"example.json\", orient = 'records')\n",
    "data_2.to_csv(\"example.csv\")\n"
   ]
  },
  {
   "cell_type": "code",
   "execution_count": null,
   "metadata": {},
   "outputs": [],
   "source": [
    "#  pip install rdflib\n",
    "\n",
    "import rdflib\n",
    "from rdflib import Graph, URIRef, BNode, Literal\n",
    "\n",
    "\n",
    "def load_csv_file_as_object(file_path: str):\n",
    "    import csv\n",
    "\n",
    "    result = []\n",
    "    with open(file_path,encoding = \"utf8\") as stream:\n",
    "        reader = csv.reader(stream)\n",
    "        header = next(reader)  # Skip header\n",
    "        for line in reader:\n",
    "            result.append({key: value for key, value in zip(header, line)})\n",
    "    return result\n",
    "\n",
    "def as_rdf(content):\n",
    "    result = Graph()\n",
    "    prefix = \"http://bastien_cadiou.org/\"\n",
    "    for record in content:\n",
    "        resource = URIRef(f\"http://bastien_cadiou.org/resource/{record['id']}\")\n",
    "        result.add((resource, URIRef(prefix + \"region\"), Literal(record[\"Region\"])))\n",
    "        result.add((resource, URIRef(prefix + \"district\"), Literal(record[\"District\"])))\n",
    "        result.add((resource, URIRef(prefix + \"field_of_care\"), Literal(record[\"Field_of_care\"])))\n",
    "        result.add((resource, URIRef(prefix + \"nbr_of_care_provider\"), Literal(record[\"Nbr_of_care_providers\"])))\n",
    "    return result\n",
    "\n",
    "def print_rdf_as_trig(graph: Graph):\n",
    "    print(graph.serialize(format=\"turtle\", destination = \"1st_cube.ttl\"))\n",
    "    \n",
    "file_path = \"example.csv\"\n",
    "data = load_csv_file_as_object(file_path)\n",
    "rdf = as_rdf(data)\n",
    "print_rdf_as_trig(rdf)\n",
    "\n",
    "\n"
   ]
  }
 ],
 "metadata": {
  "interpreter": {
   "hash": "8ff1774c64d83fce3825259fa3771bbe70271854497325f5fa1e2c1b92279703"
  },
  "kernelspec": {
   "display_name": "Python 3.9.4 64-bit",
   "language": "python",
   "name": "python3"
  },
  "language_info": {
   "codemirror_mode": {
    "name": "ipython",
    "version": 3
   },
   "file_extension": ".py",
   "mimetype": "text/x-python",
   "name": "python",
   "nbconvert_exporter": "python",
   "pygments_lexer": "ipython3",
   "version": "3.9.4"
  },
  "orig_nbformat": 4
 },
 "nbformat": 4,
 "nbformat_minor": 2
}
